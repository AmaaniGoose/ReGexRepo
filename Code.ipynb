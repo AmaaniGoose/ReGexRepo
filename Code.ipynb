{
 "cells": [
  {
   "cell_type": "code",
   "execution_count": 13,
   "metadata": {},
   "outputs": [],
   "source": [
    "import re\n",
    "import os\n",
    "from pathlib import Path"
   ]
  },
  {
   "cell_type": "markdown",
   "metadata": {},
   "source": [
    "There are various files in this repo, what we are interested in is to get those links that have https://ci.adoptopenjdk.net and are ending with consoleful or console or a number. We need the portions including https://ci.adoptopenjdk.net and the number.\n",
    "\n",
    "for files 4 and 5 we need the links in the backtick \"`\".\n",
    "Every time I was trying I wasn't getting the output, maybe a I was not able to use the regex function properly.\n",
    "It would be great if the boss itself could take a look at it."
   ]
  },
  {
   "cell_type": "code",
   "execution_count": 20,
   "metadata": {},
   "outputs": [],
   "source": [
    "if os.path.isfile('results/new.txt') :\n",
    "    open('results/new.txt', \"w\").close()  ##Have to clear the file if it already exists before using it\n",
    "\n",
    "def store_on_files(data, file_name):\n",
    "    ##Store data in file named `file_name`\n",
    "    if data:\n",
    "        try:\n",
    "            with open(file_name, \"a\", encoding='utf-8') as f:\n",
    "                f.write(str(data))\n",
    "        except:\n",
    "            return \n",
    "\n",
    "\n",
    "def regexify(s):\n",
    "    pattern = r\"(?:(?:http|ftp|https):\\/\\/ci.adoptopenjdk.net.+(?:consoleFull|console|\\d?))|(?:\\`.+?\\`)\" #For explanation visit https://regexr.com/60jmf\n",
    "    substring = re.findall(pattern, s)\n",
    "    result='\\n'.join(substring)\n",
    "    if result:\n",
    "        try:\n",
    "            return result\n",
    "        except:\n",
    "            return ' '\n",
    "\n",
    "def data_storage_func():\n",
    "    dir = 'tests' ##enter directory address\n",
    "    for filename in os.listdir(dir):\n",
    "        f = os.path.join(dir, filename)\n",
    "        if os.path.isfile(f):\n",
    "            with open(f,'r', encoding='utf-8') as file:\n",
    "                s=file.read()\n",
    "                res=regexify(s)\n",
    "                store_on_files(res, 'results/new.txt') #Enter result file and use in loop to prevent unexplained behaviour\n",
    "                \n",
    "\n",
    "\n",
    "if __name__ == '__main__':\n",
    "\tdata_storage_func()"
   ]
  },
  {
   "cell_type": "code",
   "execution_count": null,
   "metadata": {},
   "outputs": [],
   "source": []
  }
 ],
 "metadata": {
  "kernelspec": {
   "display_name": "Python 3",
   "language": "python",
   "name": "python3"
  },
  "language_info": {
   "codemirror_mode": {
    "name": "ipython",
    "version": 3
   },
   "file_extension": ".py",
   "mimetype": "text/x-python",
   "name": "python",
   "nbconvert_exporter": "python",
   "pygments_lexer": "ipython3",
   "version": "3.9.1"
  }
 },
 "nbformat": 4,
 "nbformat_minor": 4
}
